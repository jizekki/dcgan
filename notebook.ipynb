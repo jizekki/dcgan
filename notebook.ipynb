{
 "cells": [
  {
   "cell_type": "markdown",
   "source": [
    "# Setting environment"
   ],
   "metadata": {
    "collapsed": false
   }
  },
  {
   "cell_type": "code",
   "execution_count": 1,
   "metadata": {
    "collapsed": true
   },
   "outputs": [
    {
     "name": "stdout",
     "output_type": "stream",
     "text": [
      "Python version: 3.8.9\n"
     ]
    }
   ],
   "source": [
    "import platform\n",
    "\n",
    "print(f\"Python version: {platform.python_version()}\")\n",
    "assert platform.python_version_tuple() >= (\"3\", \"6\")\n",
    "\n",
    "# import numpy as np\n",
    "# import matplotlib\n",
    "import matplotlib.pyplot as plt\n",
    "import seaborn as sns"
   ]
  },
  {
   "cell_type": "code",
   "execution_count": 2,
   "outputs": [],
   "source": [
    "# Setup plots\n",
    "%matplotlib inline\n",
    "plt.rcParams[\"figure.figsize\"] = 10, 8\n",
    "%config InlineBackend.figure_format = 'retina'\n",
    "sns.set()\n",
    "%load_ext tensorboard"
   ],
   "metadata": {
    "collapsed": false,
    "pycharm": {
     "name": "#%%\n"
    }
   }
  },
  {
   "cell_type": "code",
   "execution_count": 3,
   "outputs": [
    {
     "name": "stdout",
     "output_type": "stream",
     "text": [
      "PyTorch version: 1.10.1\n"
     ]
    }
   ],
   "source": [
    "import torch\n",
    "\n",
    "print(f\"PyTorch version: {torch.__version__}\")\n",
    "\n",
    "import torch.nn as nn\n",
    "# from torch.utils.tensorboard import SummaryWriter"
   ],
   "metadata": {
    "collapsed": false,
    "pycharm": {
     "name": "#%%\n"
    }
   }
  },
  {
   "cell_type": "markdown",
   "source": [
    "# Building the model"
   ],
   "metadata": {
    "collapsed": false
   }
  },
  {
   "cell_type": "code",
   "execution_count": 9,
   "outputs": [],
   "source": [
    "# noinspection PyTypeChecker\n",
    "\n",
    "class Generator(nn.Module):\n",
    "    def __init__(self, in_channels):\n",
    "        super(Generator, self).__init__()\n",
    "        self.num_gpu = num_gpu\n",
    "        self.generator = nn.Sequential(\n",
    "            nn.ConvTranspose2d(in_channels, 64, 7, 1, 0, bias=False),\n",
    "            nn.ReLU(True),\n",
    "            nn.ConvTranspose2d(64, 32, 4, 2, 1, bias=False),\n",
    "            nn.ReLU(True),\n",
    "            nn.ConvTranspose2d(32, 1, 4, 2, 1, bias=False),\n",
    "            nn.Tanh(), # Only the last layer uses a tanh activations\n",
    "        )\n",
    "\n",
    "    def forward(self, x):\n",
    "        return self.generator(x)"
   ],
   "metadata": {
    "collapsed": false,
    "pycharm": {
     "name": "#%%\n"
    }
   }
  },
  {
   "cell_type": "code",
   "execution_count": 7,
   "outputs": [],
   "source": [
    "# noinspection PyTypeChecker\n",
    "\n",
    "class Discriminator(nn.Module):\n",
    "    def __init__(self):\n",
    "        super(Discriminator, self).__init__()\n",
    "        self.discriminator = nn.Sequential(\n",
    "            nn.Conv2d(1, 32, 4, 2, 1, bias=False),\n",
    "            nn.LeakyReLU(negative_slope=0.2, inplace=True),\n",
    "            nn.Conv2d(32, 64, 4, 2, 1, bias=False),\n",
    "            nn.LeakyReLU(negative_slope=0.2, inplace=True),\n",
    "            nn.Conv2d(64, 1, 7, 1, 0, bias=False),\n",
    "            nn.Sigmoid(),\n",
    "        )\n",
    "\n",
    "    def forward(self, x):\n",
    "        return self.discriminator(x)"
   ],
   "metadata": {
    "collapsed": false,
    "pycharm": {
     "name": "#%%\n"
    }
   }
  },
  {
   "cell_type": "code",
   "execution_count": 8,
   "outputs": [
    {
     "name": "stdout",
     "output_type": "stream",
     "text": [
      "Generator(\n",
      "  (generator): Sequential(\n",
      "    (0): ConvTranspose2d(1, 64, kernel_size=(7, 7), stride=(1, 1), bias=False)\n",
      "    (1): ReLU(inplace=True)\n",
      "    (2): ConvTranspose2d(64, 32, kernel_size=(4, 4), stride=(2, 2), padding=(1, 1), bias=False)\n",
      "    (3): ReLU(inplace=True)\n",
      "    (4): ConvTranspose2d(32, 1, kernel_size=(4, 4), stride=(2, 2), padding=(1, 1), bias=False)\n",
      "    (5): Tanh()\n",
      "  )\n",
      ")\n",
      "Discriminator(\n",
      "  (discriminator): Sequential(\n",
      "    (0): Conv2d(1, 32, kernel_size=(4, 4), stride=(2, 2), padding=(1, 1), bias=False)\n",
      "    (1): LeakyReLU(negative_slope=0.2, inplace=True)\n",
      "    (2): Conv2d(32, 64, kernel_size=(4, 4), stride=(2, 2), padding=(1, 1), bias=False)\n",
      "    (3): LeakyReLU(negative_slope=0.2, inplace=True)\n",
      "    (4): Conv2d(64, 1, kernel_size=(7, 7), stride=(1, 1), bias=False)\n",
      "    (5): Sigmoid()\n",
      "  )\n",
      ")\n"
     ]
    }
   ],
   "source": [
    "\n",
    "num_gpu = 1\n",
    "num_epochs = 1 # to change later\n",
    "batch_size = 32\n",
    "device = torch.device('cuda:0' if (torch.cuda.is_available() and num_gpu > 0) else 'cpu')\n",
    "\n",
    "generator = Generator(1).to(device)\n",
    "discriminator = Discriminator().to(device)\n",
    "\n",
    "# Handle multi gpu\n",
    "if (device.type == 'cuda') and (num_gpu > 1):\n",
    "    generator = nn.DataParallel(generator, list(range(num_gpu)))\n",
    "    discriminator = nn.DataParallel(discriminator, list(range(num_gpu)))\n",
    "\n",
    "\n",
    "print(generator)\n",
    "print(discriminator)"
   ],
   "metadata": {
    "collapsed": false,
    "pycharm": {
     "name": "#%%\n"
    }
   }
  },
  {
   "cell_type": "code",
   "execution_count": null,
   "outputs": [],
   "source": [
    "generator_optimizer = torch.optim.Adam(generator.parameters(), lr=0.0002, betas=(0.5, 0.999))\n",
    "discriminator_optimizer = torch.optim.Adam(discriminator.parameters(), lr=0.0002, betas=(0.5, 0.999))\n",
    "criterion = nn.BCELoss()\n",
    "\n",
    "generator_loss = []\n",
    "discriminator_loss = []\n",
    "\n",
    "real_label = 1\n",
    "fake_label = 0\n",
    "z = 100"
   ],
   "metadata": {
    "collapsed": false,
    "pycharm": {
     "name": "#%%\n"
    }
   }
  },
  {
   "cell_type": "code",
   "execution_count": null,
   "outputs": [],
   "source": [
    "dataset_batches = None"
   ],
   "metadata": {
    "collapsed": false,
    "pycharm": {
     "name": "#%%\n"
    }
   }
  },
  {
   "cell_type": "code",
   "execution_count": null,
   "outputs": [],
   "source": [
    "for epoch in range(num_epochs):\n",
    "    for i, data in enumerate(dataset_batches, 0):\n",
    "        ###  Discriminator training\n",
    "\n",
    "        # reset the gradients\n",
    "        discriminator.zero_grad()\n",
    "\n",
    "        # transfer the images to the specified device (required for\n",
    "        # training on a gpu)\n",
    "        real_images = data[0].to(device)\n",
    "        labels = torch.full((batch_size,), real_label, device=device)\n",
    "\n",
    "        # Forward pass the real batch through discriminator\n",
    "        output = discriminator(real_images).view(-1)\n",
    "        prob_D = output.mean().item()\n",
    "        errD_real = criterion(output, labels)\n",
    "        errD_real_mean = output.mean().item()\n",
    "\n",
    "        # generate fake images\n",
    "        noise_batch = torch.randn(batch_size, z, 1, 1, device=device)\n",
    "        fake_images = generator(noise_batch).to(device)\n",
    "        labels = torch.full((batch_size,), fake_label, device=device)\n",
    "\n",
    "        # Forward pass the fake batch through discriminator\n",
    "        output = discriminator(fake_images.detach()).view(-1)\n",
    "        errD_fake = criterion(output, labels)\n",
    "        errD_fake_mean = output.mean().item()\n",
    "\n",
    "        errD = errD_real + errD_fake\n",
    "        errD.backward()\n",
    "\n",
    "        # Make a gradient step\n",
    "        discriminator_optimizer.step()\n",
    "\n",
    "        ####  Generator training\n",
    "\n",
    "        generator.zero_grad()\n",
    "\n",
    "        # create another batch of fakes for the generator\n",
    "        noise_batch = torch.randn(batch_size, z, 1, 1, device=device)\n",
    "        fake_images = generator(noise_batch).to(device)\n",
    "        labels = torch.full((batch_size,), real_label, device=device)\n",
    "\n",
    "        # Forward pass the fake batch through generator\n",
    "        output = discriminator(fake_images).view(-1)\n",
    "        prob_G = output.mean().item()\n",
    "        errG = criterion(output, labels)\n",
    "        errG_mean = output.mean().item()\n",
    "\n",
    "        errG.backward()\n",
    "        generator_optimizer.step()\n",
    "\n",
    "        # Record the training stats\n",
    "        if i % 50 == 0:\n",
    "            print(f\"[{epoch}/{num_epochs}][{i}/{len(dataset_batches)}]\\tLoss_D: {errD.item()}\\tLoss_G: {errG.item()}\\tProb D: {prob_D}\\tProb G: {prob_G}\")\n",
    "\n",
    "        # Save the loss profiles for plotting later\n",
    "        discriminator_loss.append(errD.item())\n",
    "        generator_loss.append(errG.item())\n",
    "\n",
    "        epoch += 1"
   ],
   "metadata": {
    "collapsed": false,
    "pycharm": {
     "name": "#%%\n"
    }
   }
  }
 ],
 "metadata": {
  "kernelspec": {
   "display_name": "Python 3",
   "language": "python",
   "name": "python3"
  },
  "language_info": {
   "codemirror_mode": {
    "name": "ipython",
    "version": 2
   },
   "file_extension": ".py",
   "mimetype": "text/x-python",
   "name": "python",
   "nbconvert_exporter": "python",
   "pygments_lexer": "ipython2",
   "version": "2.7.6"
  }
 },
 "nbformat": 4,
 "nbformat_minor": 0
}